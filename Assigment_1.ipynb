{
  "nbformat": 4,
  "nbformat_minor": 0,
  "metadata": {
    "colab": {
      "name": "Assigment#1.ipynb",
      "provenance": [],
      "collapsed_sections": [],
      "authorship_tag": "ABX9TyN0yT8ot9j/ZYtgCJ0y6mLT",
      "include_colab_link": true
    },
    "kernelspec": {
      "name": "python3",
      "display_name": "Python 3"
    }
  },
  "cells": [
    {
      "cell_type": "markdown",
      "metadata": {
        "id": "view-in-github",
        "colab_type": "text"
      },
      "source": [
        "<a href=\"https://colab.research.google.com/github/paulminhdai/CS2990---Python-for-Data-Science/blob/master/Assigment_1.ipynb\" target=\"_parent\"><img src=\"https://colab.research.google.com/assets/colab-badge.svg\" alt=\"Open In Colab\"/></a>"
      ]
    },
    {
      "cell_type": "markdown",
      "metadata": {
        "id": "kq5kyVVMYedx"
      },
      "source": [
        "## Assignment #1:\n",
        "Student name: Paul Vuong\n"
      ]
    },
    {
      "cell_type": "markdown",
      "metadata": {
        "id": "9cLzynYcV1Q6"
      },
      "source": [
        "# Instruction for running my code.\n",
        "\n",
        "\n",
        "---\n",
        "\n",
        "\n",
        "Run each individual small problem by click on the **\"play button\"** on the top left of each code segment or click on each code segment and press **Control (or Command) + Enter** to run the code.\n",
        "\n",
        "- For program 1: Enter value and press **Enter** after each prompt. It shows the result after input all the prompts.\n",
        "- For program 2: Only need to run the program, the result will show.\n",
        "- For program 3: Run the program, it will print the result of 3 test cases. If you want to test other cases, call method **checkPalindrome(**string need to check**)** and pass the string need to check in the parenthesis."
      ]
    },
    {
      "cell_type": "markdown",
      "metadata": {
        "id": "FErNAroryV1P"
      },
      "source": [
        "**1. Write a well-commented program that will ask the user to enter the following information in the given order:\n",
        "•\tName  \n",
        "•\tAge  \n",
        "•\tCompany Name  \n",
        "•\tMonthly Salary  \n",
        "Then, output name, age, and annual salary.**\n",
        "\n"
      ]
    },
    {
      "cell_type": "code",
      "metadata": {
        "colab": {
          "base_uri": "https://localhost:8080/"
        },
        "cellView": "code",
        "id": "i1i95j4LyXif",
        "outputId": "16620713-c179-4dfa-9944-cea82243e422"
      },
      "source": [
        "# Input data\n",
        "name = input(\"Please enter your name: \")\n",
        "age = int(input(\"Please enter your age: \"))\n",
        "company_name = input(\"Enter the company you wish to work: \")\n",
        "monthly_salary = int(input(\"Enter monthly salary you wish to earn in dollars: \"))\n",
        "# Print out the result\n",
        "print(\"\\nMy name is {}, my age is {}\\nI hope to work for {} and earn ${} per year.\"\n",
        "                          .format(name, age, company_name, monthly_salary * 12))\n"
      ],
      "execution_count": null,
      "outputs": [
        {
          "output_type": "stream",
          "text": [
            "Please enter your name: Alex Wood\n",
            "Please enter your age: 20\n",
            "Enter the company you wish to work: Google\n",
            "Enter monthly salary you wish to earn in dollars: 8000\n",
            "\n",
            "My name is Alex Wood, my age is 20\n",
            "I hope to work for Google and earn $96000 per year.\n"
          ],
          "name": "stdout"
        }
      ]
    },
    {
      "cell_type": "markdown",
      "metadata": {
        "id": "555yZIAa1LBP"
      },
      "source": [
        "**2. Write two multiple assignments, one to assign initial values for three variables first, second and third, and one to update the values so that first is second * 2, second is third + first, third is first where the values on the right side of assignments are all initial values (see example below.) Provide the following two tests.**"
      ]
    },
    {
      "cell_type": "code",
      "metadata": {
        "colab": {
          "base_uri": "https://localhost:8080/"
        },
        "id": "zNfTel5c1Ot4",
        "outputId": "069dfacb-e936-4c95-f5ed-d598253fab2d"
      },
      "source": [
        "# First test\n",
        "first, second, third = 5, 4, 7\n",
        "print(\"Test 1: \", end=\" \")\n",
        "print(\"first = {}, second = {}, third = {}\".format(first, second, third))\n",
        "\n",
        "first, second, third = second*2, third+first, first\n",
        "print(\"Afterward, first will be {}, second {}, third {}\"\n",
        "                  .format(first, second, third))\n",
        "print()\n",
        "# Second test\n",
        "first, second, third = \"hi\", \"bye\", \"fun\"\n",
        "print(\"Test 2: \", end=\" \")\n",
        "print(\"first = {}, second = {}, third = {}\".format(first, second, third))\n",
        "\n",
        "first, second, third = second*2, third+first, first\n",
        "print(\"Afterward, first will be {}, second is {}, third is {}\"\n",
        "                        .format(first, second, third))"
      ],
      "execution_count": 3,
      "outputs": [
        {
          "output_type": "stream",
          "text": [
            "Test 1:  first = 5, second = 4, third = 7\n",
            "Afterward, first will be 8, second 12, third 5\n",
            "\n",
            "Test 2:  first = hi, second = bye, third = fun\n",
            "Afterward, first will be byebye, second is funhi, third is hi\n"
          ],
          "name": "stdout"
        }
      ]
    },
    {
      "cell_type": "markdown",
      "metadata": {
        "id": "4etADyNH2Glf"
      },
      "source": [
        "**3. Write Python code that tests if a string is a Palindrome. You may refer to the example shown in Lecture 3 but write on your own style.  \n",
        "Required tests: (1) racecar    (2) calpoly     (3) wasitacaroracatisaw**\n"
      ]
    },
    {
      "cell_type": "code",
      "metadata": {
        "colab": {
          "base_uri": "https://localhost:8080/"
        },
        "id": "aZyLLLUU2J34",
        "outputId": "025cdab4-0dd5-420c-bef3-8f5c9fdaf48b"
      },
      "source": [
        "# Function checkPalindrome\n",
        "def checkPalindrome(string):\n",
        "  # Start with the first and last characters in the string\n",
        "  left, right = 0, len(string) - 1 \n",
        "  # Keep compare until both pointers meet at middle\n",
        "  while left <= right:\n",
        "    if string[left] != string[right]:\n",
        "      print(\"It is not a palindrome.\")\n",
        "      return\n",
        "    left += 1\n",
        "    right -= 1\n",
        "  print(\"It is a palindrome.\")\n",
        "\n",
        "# Test cases\n",
        "checkPalindrome(\"racecar\")\n",
        "checkPalindrome(\"calpoly\")\n",
        "checkPalindrome(\"wasitacaroracatisaw\")"
      ],
      "execution_count": null,
      "outputs": [
        {
          "output_type": "stream",
          "text": [
            "It is a palindrome.\n",
            "It is not a palindrome.\n",
            "It is a palindrome.\n"
          ],
          "name": "stdout"
        }
      ]
    }
  ]
}