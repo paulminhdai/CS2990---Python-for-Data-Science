{
  "nbformat": 4,
  "nbformat_minor": 0,
  "metadata": {
    "colab": {
      "name": "Assignment#2.ipynb",
      "provenance": [],
      "collapsed_sections": []
    },
    "kernelspec": {
      "name": "python3",
      "display_name": "Python 3"
    }
  },
  "cells": [
    {
      "cell_type": "markdown",
      "metadata": {
        "id": "DGY7CS6QkEM1"
      },
      "source": [
        "## Assignment #2:\n",
        "Student name: Paul Vuong"
      ]
    },
    {
      "cell_type": "markdown",
      "metadata": {
        "id": "keoQYcpLkJ3d"
      },
      "source": [
        "# Instruction for running my code.\n",
        "\n",
        "\n",
        "---\n",
        "\n",
        "\n",
        "Run each individual small problem by click on the **\"play button\"** on the top left of each code segment or click on each code segment and press **Control (or Command) + Enter** to run the code.\n",
        "\n",
        "- Problem 1: I ran 6 cases below. If you run it again, it will call the method 6 times for each cases and enter data for each case.\n",
        "- Problem 2: There are 2 small problems: the result will be shown when you run the first one. It similar to second one, but if you want to test other cases, call the method with the cases.\n",
        "- Problem 3: I combine 2 small problems into one, run it and enter data to test out weather it is prime or not."
      ]
    },
    {
      "cell_type": "markdown",
      "metadata": {
        "id": "GpJVE1YPkMg6"
      },
      "source": [
        "**Problem 1: Practicing if statements**\n",
        "\n",
        "Body Mass Index is a simple calculation using a person's height and weight. BMI can be calculated in Imperial or Metric system. \n",
        "\n",
        "The imperial BMI formula is your weight in pounds (lbs) divided by your height in inches, squared and then you multiply this figure by a conversion factor of 703.\n",
        "\n",
        "The metric formula is BMI = kg/m2 where kg is a person's weight in kilograms and m2 is their height in meters squared. \n",
        "\n",
        "A BMI of 25.0 or more is overweight, while the healthy range is 18.5 to 24.9.\n",
        "\n",
        "For our program we will let the user choose whether to use Imperial or Metric system. After the user enters the weight and height, the program will report the BMI, as well as a message indicating overweight, healthy, or abnormal BMI. At this moment it’s okay to crash the program if a user fails to enter proper whole numbers. However, the program should avoid divide-by-zero error by printing out an error message in this case.  \n",
        " \n"
      ]
    },
    {
      "cell_type": "code",
      "metadata": {
        "colab": {
          "base_uri": "https://localhost:8080/"
        },
        "id": "wyawdFW_k7H6",
        "outputId": "70594558-98c0-4ed1-9c22-f5bee5a5a45e"
      },
      "source": [
        "def bmi_check():\n",
        "  # First  choose options imperial or matric\n",
        "  system_option = (input(\"Please choose Imperial (I) or Metric (M). Enter I or M: \"))\\\n",
        "                  .lower()\n",
        "  # Choose option again if enter invalid input\n",
        "  while not (system_option == 'i' or system_option == 'm'):\n",
        "    system_option = (input(\"Invalid input. Enter I or M: \")).lower()\n",
        "\n",
        "  # Imperial system\n",
        "  if system_option == 'i':\n",
        "    weight = float(input(\"Enter your weight in pounds: \"))\n",
        "    height = float(input(\"Enter your height in inches: \"))\n",
        "    if height == 0: # handle divide-by-zero cases\n",
        "      print(\"Your height can not be ZERO.\")\n",
        "    else: \n",
        "      bmi = (weight * 703) / height**2\n",
        "      print(\"Overweight.\") if bmi>=25.0 else print(\"Healthy.\") if 18.5<=bmi<=24.9 else print(\"Underweight.\")\n",
        "\n",
        "  # Metric system\n",
        "  elif system_option == 'm':\n",
        "    weight = float(input(\"Enter your weight in kilograms: \"))\n",
        "    height = float(input(\"Enter your height in meters: \"))\n",
        "    if height == 0: # handle divide-by-zero cases\n",
        "      print(\"Your height can not be ZERO.\")\n",
        "    else:\n",
        "      bmi = weight / height**2\n",
        "      print(\"Overweight.\") if bmi>=25.0 else print(\"Healthy.\") if 18.5<=bmi<=24.9 else print(\"Underweight.\")\n",
        "\n",
        "print(\"\\nCase 1: Normal in imperial system.\")\n",
        "bmi_check()\n",
        "print(\"\\nCase 2: Overweight in imperial system.\")\n",
        "bmi_check()\n",
        "print(\"\\nCase 3: Normal in metric system.\")\n",
        "bmi_check()\n",
        "print(\"\\nCase 4: Overweight in metric system.\")\n",
        "bmi_check()\n",
        "print(\"\\nCase 5: Divide-by-zero in metric system.\")\n",
        "bmi_check()\n",
        "print(\"\\nCase 6: Negative BMI in metric system.\")\n",
        "bmi_check()\n"
      ],
      "execution_count": null,
      "outputs": [
        {
          "output_type": "stream",
          "text": [
            "\n",
            "Case 1: Normal in imperial system.\n",
            "Please choose Imperial (I) or Metric (M). Enter I or M: i\n",
            "Enter your weight in pounds: 134\n",
            "Enter your height in inches: 64\n",
            "Healthy.\n",
            "\n",
            "Case 2: Overweight in imperial system.\n",
            "Please choose Imperial (I) or Metric (M). Enter I or M: i\n",
            "Enter your weight in pounds: 188\n",
            "Enter your height in inches: 70\n",
            "Overweight.\n",
            "\n",
            "Case 3: Normal in metric system.\n",
            "Please choose Imperial (I) or Metric (M). Enter I or M: m\n",
            "Enter your weight in kilograms: 54\n",
            "Enter your height in meters: 1.6\n",
            "Healthy.\n",
            "\n",
            "Case 4: Overweight in metric system.\n",
            "Please choose Imperial (I) or Metric (M). Enter I or M: m\n",
            "Enter your weight in kilograms: 108\n",
            "Enter your height in meters: 2\n",
            "Overweight.\n",
            "\n",
            "Case 5: Divide-by-zero in metric system.\n",
            "Please choose Imperial (I) or Metric (M). Enter I or M: m\n",
            "Enter your weight in kilograms: 70\n",
            "Enter your height in meters: 0\n",
            "Your height can not be ZERO.\n",
            "\n",
            "Case 6: Negative BMI in metric system.\n",
            "Please choose Imperial (I) or Metric (M). Enter I or M: m\n",
            "Enter your weight in kilograms: -60\n",
            "Enter your height in meters: 1.5\n",
            "Underweight.\n"
          ],
          "name": "stdout"
        }
      ]
    },
    {
      "cell_type": "markdown",
      "metadata": {
        "id": "SPCg1JaQyXBb"
      },
      "source": [
        "**Problem 2: Practicing for loops.**\n",
        "\n",
        "(1) write one for loop to print out all odd numbers between 1 to 30 (in one line), at the end of the loop, print out (on next line) “Done!” (note: one for statement only, no if statement should be used.)\n",
        "\n",
        "\n"
      ]
    },
    {
      "cell_type": "code",
      "metadata": {
        "colab": {
          "base_uri": "https://localhost:8080/"
        },
        "id": "vjoxuXz-yolV",
        "outputId": "96e19d2c-f294-4357-da24-c477466b2275"
      },
      "source": [
        "for i in range(1,31):\n",
        "  print(i, end=\" \")\n",
        "print(\"\\nDone!\")"
      ],
      "execution_count": null,
      "outputs": [
        {
          "output_type": "stream",
          "text": [
            "1 2 3 4 5 6 7 8 9 10 11 12 13 14 15 16 17 18 19 20 21 22 23 24 25 26 27 28 29 30 \n",
            "Done!\n"
          ],
          "name": "stdout"
        }
      ]
    },
    {
      "cell_type": "markdown",
      "metadata": {
        "id": "bSM7ERmM3OLe"
      },
      "source": [
        "(2) get a string/sentence (may enter or assign), then write a for loop to count how many ‘e’ characters are in the sentence. You may use if statement in addition to for loop. For example, if a user enters “hello friends”, your output should be something like: 2 e found in the sentence. Provide at least three test runs, one is an empty string, one is a non-empty string without e, one is a non-empty string with more than one e’s."
      ]
    },
    {
      "cell_type": "code",
      "metadata": {
        "colab": {
          "base_uri": "https://localhost:8080/"
        },
        "id": "Fb2wX064zFQx",
        "outputId": "a6adce75-fa20-4aed-93fb-926fcddbdc51"
      },
      "source": [
        "def count_e(string):\n",
        "  num_of_e = 0\n",
        "  # Brute force the string to count \"e\" in the string\n",
        "  for char in string:\n",
        "    if char == 'e':\n",
        "      num_of_e += 1\n",
        "  print(\"{} e found in the sentence.\".format(num_of_e))\n",
        "\n",
        "count_e(\"\")\n",
        "count_e(\"What's up!\")\n",
        "count_e(\"hello friends\")"
      ],
      "execution_count": null,
      "outputs": [
        {
          "output_type": "stream",
          "text": [
            "0 e found in the sentence.\n",
            "0 e found in the sentence.\n",
            "2 e found in the sentence.\n"
          ],
          "name": "stdout"
        }
      ]
    },
    {
      "cell_type": "markdown",
      "metadata": {
        "id": "vr_dwyuXz9eQ"
      },
      "source": [
        "**Problem 3: Practicing while loop**\n",
        "\n",
        "(1) Prompts user to enter an integer of value 2 or larger. If a user enters a number less than 2, ask to re-enter. The user has three times to enter a valid number. (You may assume the user always enter a whole number, i.e. may ignore other number format errors.)\n",
        "\n",
        "(2) Assume the user entered an integer of value 2 or larger. Write a while loop to check if it’s a prime number or not. Test the problem with the following numbers: 2, 6, 11, 25, 31 Note: you may combine (1) or (2), or program separately."
      ]
    },
    {
      "cell_type": "code",
      "metadata": {
        "id": "5Ssd7W100YXR",
        "colab": {
          "base_uri": "https://localhost:8080/"
        },
        "outputId": "700153d4-1c98-4dd5-9c87-410038bafc47"
      },
      "source": [
        "# First enter a number \n",
        "value = int(input(\"Enter a whole number greater or equal 2: \"))\n",
        "counter = 1 # Counter keep track of invalid number\n",
        "while value < 2:\n",
        "  if counter >= 3:\n",
        "    break\n",
        "  value = int(input(\"Enter a whole number greater or equal 2: \")) # re-enter if invalid\n",
        "  counter += 1 # increase counter by 1 if invalid number\n",
        "else:\n",
        "  # Check prime number\n",
        "  for i in range(2,value):\n",
        "    if (value % i) == 0:\n",
        "      print(value,\"is not a prime number\")\n",
        "      break\n",
        "  else:\n",
        "    print(value,\"is a prime number\")\n"
      ],
      "execution_count": null,
      "outputs": [
        {
          "output_type": "stream",
          "text": [
            "Enter a whole number greater or equal 2: 0\n",
            "Enter a whole number greater or equal 2: -1\n",
            "Enter a whole number greater or equal 2: 3\n",
            "3 is a prime number\n"
          ],
          "name": "stdout"
        }
      ]
    }
  ]
}