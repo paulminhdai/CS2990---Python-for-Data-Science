{
  "nbformat": 4,
  "nbformat_minor": 0,
  "metadata": {
    "colab": {
      "name": "Assignment#3.ipynb",
      "provenance": [],
      "collapsed_sections": [],
      "authorship_tag": "ABX9TyMk5T/yiS0/sM4EexkWW2E4",
      "include_colab_link": true
    },
    "kernelspec": {
      "name": "python3",
      "display_name": "Python 3"
    }
  },
  "cells": [
    {
      "cell_type": "markdown",
      "metadata": {
        "id": "view-in-github",
        "colab_type": "text"
      },
      "source": [
        "<a href=\"https://colab.research.google.com/github/paulminhdai/CS2990---Python-for-Data-Science/blob/master/Assignment_3.ipynb\" target=\"_parent\"><img src=\"https://colab.research.google.com/assets/colab-badge.svg\" alt=\"Open In Colab\"/></a>"
      ]
    },
    {
      "cell_type": "markdown",
      "metadata": {
        "id": "t8dqU3SEI2ji"
      },
      "source": [
        "## Assignment #3:\n",
        "Student name: Paul Vuong"
      ]
    },
    {
      "cell_type": "markdown",
      "metadata": {
        "id": "87W3dlalI8kA"
      },
      "source": [
        "# Instruction for running my code.\n",
        "\n",
        "\n",
        "---\n",
        "\n",
        "\n",
        "Run each individual small problem by click on the **\"play button\"** on the top left of each code segment or click on each code segment and press **Control (or Command) + Enter** to run the code.\n",
        "\n",
        "- Problem 1: Run and enter a sentence (or a string) to test methods get_num_of_characters and output_without_whitespace, then enter another string to test method get_acronym.\n",
        "- Problem 2: Run and it will show the result."
      ]
    },
    {
      "cell_type": "markdown",
      "metadata": {
        "id": "8ct7n5urJAOJ"
      },
      "source": [
        "**Problem 1: Text analyzer & modifier**\n",
        "\n",
        "(1) Complete the get_num_of_characters() function, which takes a string as parameter and returns the number of characters in the user's string. We encourage you to use a for loop in this function.   \n",
        "(2) Implement the output_without_whitespace() function. output_without_whitespace() takes a string as parameter and outputs the string's characters except for whitespace (spaces, tabs). Note: A tab is '\\t'. \n",
        "(3) Write a function get_acronym() that returns the acronym for a phrase, e.g. acronym for “random access memory” is RAM, acronym for “central processing unit” is CPU.\n",
        "(4) Create a main() function that first prompts the user to enter a sentence, outputs the string, and calls functions in (1) and (2) to get character counts as well as output without whitespaces; then prompts user again for a phrase and output the acronym.\n",
        "(4) call the main function to run the program.\n"
      ]
    },
    {
      "cell_type": "code",
      "metadata": {
        "colab": {
          "base_uri": "https://localhost:8080/"
        },
        "id": "R8KZKHLkIxLL",
        "outputId": "58008d5a-da74-421c-c238-22d41a1bcb3d"
      },
      "source": [
        "def get_num_of_characters(inputStr):\n",
        "  \"\"\" Count the number of char in the string. \"\"\"\n",
        "  result = 0\n",
        "  for _ in inputStr:\n",
        "    result += 1\n",
        "  return result\n",
        "\n",
        "def output_without_whitespace(inputStr):\n",
        "  \"\"\" String without whitespace. \"\"\"\n",
        "  return ''.join([char for char in inputStr if char not in [' ', '\\t']])\n",
        "\n",
        "def get_acronym(inputStr):\n",
        "  \"\"\" Get acronym of the string. \"\"\"\n",
        "  return ''.join(word[0].upper() for word in inputStr.split())\n",
        "\n",
        "def main():\n",
        "  \"\"\" Main function \"\"\"\n",
        "  sentence = input(\"Enter a sentence or phrase: \")\n",
        "  print(\"You entered: \", sentence)\n",
        "\n",
        "  print(\"Number of characters: \", get_num_of_characters(sentence))\n",
        "  print(\"String with no whitespace: \", output_without_whitespace(sentence))\n",
        "  \n",
        "  sentence = input(\"Enter a phrase to generate an acronym: \")\n",
        "  print(\"The acronym is: \", get_acronym(sentence))\n",
        "  return\n",
        "\n",
        "if __name__ == '__main__':\n",
        "  main()"
      ],
      "execution_count": 35,
      "outputs": [
        {
          "output_type": "stream",
          "text": [
            "Enter a sentence or phrase: The only thing we have to fear is fear itself.\n",
            "You entered:  The only thing we have to fear is fear itself.\n",
            "Number of characters:  46\n",
            "String with no whitespace:  Theonlythingwehavetofearisfearitself.\n",
            "Enter a phrase to generate an acronym: random access memory\n",
            "The acronym is:  RAM\n"
          ],
          "name": "stdout"
        }
      ]
    },
    {
      "cell_type": "markdown",
      "metadata": {
        "id": "V4JWpzJhPgp7"
      },
      "source": [
        "**Problem 2:**\n",
        "\n",
        "  A trapezoid formulae for integrating a function in [a, b] is given below (note: if the image below is not clear, please google to find a clearer one).\n",
        "\n",
        "  (1) Write a function trapezoid() that takes a function f() as parameter.\n",
        "  \n",
        "(2) Call the trapezoid() function to perform the following integration\n"
      ]
    },
    {
      "cell_type": "code",
      "metadata": {
        "colab": {
          "base_uri": "https://localhost:8080/"
        },
        "id": "Jb7NQZhnPpx3",
        "outputId": "857d2597-aba3-4e88-afa6-fcc384db757e"
      },
      "source": [
        "def trapezoid(f, a, b, n):\n",
        "  \"\"\" Use trapezoid rule to calculate the integral. \"\"\"\n",
        "  delta_x = (b - a) / n\n",
        "  i = a\n",
        "  sum = 0\n",
        "  while i <= b:\n",
        "    if i == a or i == b:\n",
        "      sum += f(i)\n",
        "    else:\n",
        "      sum += 2 * f(i)\n",
        "    i += delta_x      \n",
        "  \n",
        "  return delta_x / 2 * sum\n",
        "\n",
        "func = lambda x: (x**4 * (1-x)**4) / (1 + x**2)\n",
        "trapezoid(func, 0, 1, 10)"
      ],
      "execution_count": 27,
      "outputs": [
        {
          "output_type": "execute_result",
          "data": {
            "text/plain": [
              "0.0012645110928411153"
            ]
          },
          "metadata": {
            "tags": []
          },
          "execution_count": 27
        }
      ]
    }
  ]
}