{
  "nbformat": 4,
  "nbformat_minor": 0,
  "metadata": {
    "colab": {
      "name": "Assignment#4.ipynb",
      "provenance": [],
      "collapsed_sections": [],
      "authorship_tag": "ABX9TyOtpTaqBsqeE0ThAFItU9Ym",
      "include_colab_link": true
    },
    "kernelspec": {
      "name": "python3",
      "display_name": "Python 3"
    }
  },
  "cells": [
    {
      "cell_type": "markdown",
      "metadata": {
        "id": "view-in-github",
        "colab_type": "text"
      },
      "source": [
        "<a href=\"https://colab.research.google.com/github/paulminhdai/CS2990---PythonForDataScience-W20/blob/master/Assignment_4.ipynb\" target=\"_parent\"><img src=\"https://colab.research.google.com/assets/colab-badge.svg\" alt=\"Open In Colab\"/></a>"
      ]
    },
    {
      "cell_type": "markdown",
      "metadata": {
        "id": "t8dqU3SEI2ji"
      },
      "source": [
        "## Assignment #4:\n",
        "Student name: Paul Vuong"
      ]
    },
    {
      "cell_type": "markdown",
      "metadata": {
        "id": "87W3dlalI8kA"
      },
      "source": [
        "# Instruction for running my code.\n",
        "\n",
        "\n",
        "---\n",
        "\n",
        "\n",
        "Run the program by click on the **\"play button\"** on the top left of each code segment or click on each code segment and press **Control (or Command) + Enter** to run the code.\n",
        "\n"
      ]
    },
    {
      "cell_type": "code",
      "metadata": {
        "colab": {
          "base_uri": "https://localhost:8080/"
        },
        "id": "L7RSpGygH7lb",
        "outputId": "0ce21918-07bc-4f85-b923-e839b3d335d1"
      },
      "source": [
        "from statistics import *\n",
        "\n",
        "nameLst = [\"Betty\", \"Andrew\", \"Zach\", \"Cathy\", \"Jay\", \"Kevin\", \"Cassie\", \"Matt\", \n",
        "           \"Jamie\", \"Xavier\", \"Peter\", \"John\", \"Jamie\", \"Joe\", \"Ellen\", \"Nancy\", \n",
        "           \"Jay\", \"Bryce\", \"Gordon\", \"Gee\"]\n",
        "score1 = [50, 45, 48, 48, 46, 49, 35, 38, 42, 50, 44, 37, 35, 32, 48, 32, 44, 45, 41, 46]\n",
        "score2 = [35, 48, 50, 37, 45, 41, 47, 50, 47, 41, 47, 48, 46, 49, 41, 38, 46, 42, 33, 39]\n",
        "\n",
        "def makeLst(aNameLst, e1ScoreLst, e2ScoreLst):\n",
        "  \"\"\" List of students with score 1 and 2 \"\"\"\n",
        "  return list(zip(aNameLst,zip(e1ScoreLst, e2ScoreLst)))\n",
        "\n",
        "\n",
        "def personalAverage(aList):\n",
        "  \"\"\" List of students and their average \"\"\"\n",
        "  result = []\n",
        "  for student in aList:\n",
        "    avg = mean(student[1])\n",
        "    stu_avg = (student[0], avg)\n",
        "    result.append(stu_avg)\n",
        "  return result\n",
        " \n",
        "\n",
        "def sortByName(bList):\n",
        "  \"\"\" List of students and their average sorted by name \"\"\"\n",
        "  return sorted(data, key=lambda x:(x[0], -x[1]))\n",
        " \n",
        "\n",
        "\n",
        "def sortByAveScore(bList):\n",
        "  \"\"\" List of students and their average sorted by score \"\"\"\n",
        "  n0 = sorted(data, key=lambda x: x[0])\n",
        "  n1 = sorted(n0, key=lambda x: x[1], reverse=True)\n",
        "  return n1\n",
        "\n",
        "\n",
        "def classMean(cList1, cList2):\n",
        "  \"\"\" Mean of score 1 and score 2 \"\"\"\n",
        "  exam1MeanScore = mean(cList1)\n",
        "  exam2MeanScore = mean(cList2)\n",
        "  return exam1MeanScore, exam2MeanScore\n",
        "\n",
        "\n",
        "def classStdDev(cList1, cList2):\n",
        "  \"\"\" Standard deviation of score 1 and score 2 \"\"\"\n",
        "  exam1Std = stdev(cList1)\n",
        "  exam2Std = stdev(cList2)\n",
        "  return exam1Std, exam2Std\n",
        "\n",
        "\n",
        "def main():\n",
        "  print(\"List of students with score 1 and 2:\")\n",
        "  aList = makeLst(nameLst,score1,score2)\n",
        "  print(aList)\n",
        "\n",
        "  print(\"\\nList of students and their average: \")\n",
        "  bList = personalAverage(aList)\n",
        "  print(bList)\n",
        "\n",
        "  print(\"\\nList of students and their average sorted by name:\")\n",
        "  cList = sortByName(bList)\n",
        "  print(cList)\n",
        "\n",
        "  print(\"\\nList of students and their average sorted by score:\")\n",
        "  dList = sortByAveScore(bList)\n",
        "  print(dList)\n",
        "\n",
        "  average = classMean(score1,score2)\n",
        "  print(\"\\nAverage of score1 is: {} and score2 is: {}\".format(average[0], average[1]))\n",
        "\n",
        "  sd = classStdDev(score1,score2)\n",
        "  print(\"\\nStandard deviation of score1 is: %.4f and score2 is: %.4f\" %(sd[0], sd[1]))\n",
        "\n",
        "if __name__ == '__main__':\n",
        "  main()\n",
        "\n"
      ],
      "execution_count": null,
      "outputs": [
        {
          "output_type": "stream",
          "text": [
            "List of students with score 1 and 2:\n",
            "[('Betty', (50, 35)), ('Andrew', (45, 48)), ('Zach', (48, 50)), ('Cathy', (48, 37)), ('Jay', (46, 45)), ('Kevin', (49, 41)), ('Cassie', (35, 47)), ('Matt', (38, 50)), ('Jamie', (42, 47)), ('Xavier', (50, 41)), ('Peter', (44, 47)), ('John', (37, 48)), ('Jamie', (35, 46)), ('Joe', (32, 49)), ('Ellen', (48, 41)), ('Nancy', (32, 38)), ('Jay', (44, 46)), ('Bryce', (45, 42)), ('Gordon', (41, 33)), ('Gee', (46, 39))]\n",
            "\n",
            "List of students and their average: \n",
            "[('Betty', 42.5), ('Andrew', 46.5), ('Zach', 49), ('Cathy', 42.5), ('Jay', 45.5), ('Kevin', 45), ('Cassie', 41), ('Matt', 44), ('Jamie', 44.5), ('Xavier', 45.5), ('Peter', 45.5), ('John', 42.5), ('Jamie', 40.5), ('Joe', 40.5), ('Ellen', 44.5), ('Nancy', 35), ('Jay', 45), ('Bryce', 43.5), ('Gordon', 37), ('Gee', 42.5)]\n",
            "\n",
            "List of students and their average sorted by name:\n",
            "[('Andrew', 46.5), ('Betty', 42.5), ('Bryce', 43.5), ('Cassie', 41), ('Cathy', 42.5), ('Ellen', 44.5), ('Gee', 42.5), ('Gordon', 37), ('Jamie', 44.5), ('Jamie', 40.5), ('Jay', 45.5), ('Jay', 45), ('Joe', 40.5), ('John', 42.5), ('Kevin', 45), ('Matt', 44), ('Nancy', 35), ('Peter', 45.5), ('Xavier', 45.5), ('Zach', 49)]\n",
            "\n",
            "List of students and their average sorted by score:\n",
            "[('Zach', 49), ('Andrew', 46.5), ('Jay', 45.5), ('Peter', 45.5), ('Xavier', 45.5), ('Jay', 45), ('Kevin', 45), ('Ellen', 44.5), ('Jamie', 44.5), ('Matt', 44), ('Bryce', 43.5), ('Betty', 42.5), ('Cathy', 42.5), ('Gee', 42.5), ('John', 42.5), ('Cassie', 41), ('Jamie', 40.5), ('Joe', 40.5), ('Gordon', 37), ('Nancy', 35)]\n",
            "\n",
            "Average of score1 is: 42.75 and score2 is: 43.5\n",
            "\n",
            "Standard deviation of score1 is: 5.9460 and score2 is: 5.1453\n"
          ],
          "name": "stdout"
        }
      ]
    }
  ]
}